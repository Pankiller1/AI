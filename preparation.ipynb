{
 "cells": [
  {
   "cell_type": "code",
   "execution_count": 2,
   "id": "fd2173cb-bb01-4aa1-b2dd-e43c7025b2af",
   "metadata": {
    "tags": []
   },
   "outputs": [
    {
     "name": "stdout",
     "output_type": "stream",
     "text": [
      "训练集共有 4000 个样本\n"
     ]
    }
   ],
   "source": [
    "import os\n",
    "import pandas as pd\n",
    "\n",
    "# 定义数据文件夹路径\n",
    "data_folder = \"实验五数据\"\n",
    "\n",
    "# 训练集录入\n",
    "sample_info = {}\n",
    "id_list = []\n",
    "\n",
    "with open(\"实验五数据/train.txt\", \"r\", encoding=\"utf-8\") as file:\n",
    "    next(file)\n",
    "    for line in file:\n",
    "        line = line.strip().split(\",\")\n",
    "        sample_info[line[0]] = line[1]\n",
    "        id_list.append(line[0])\n",
    "\n",
    "# 读取图像和文字描述\n",
    "image_data = []\n",
    "text_data = []\n",
    "\n",
    "for guid in id_list:\n",
    "    image_path = os.path.join(data_folder, \"data\", f\"{guid}.jpg\")\n",
    "    image_data.append(image_path)\n",
    "\n",
    "    text_path = os.path.join(data_folder, \"data\", f\"{guid}.txt\")\n",
    "    # print(text_path)\n",
    "    with open(text_path, \"r\", encoding=\"gbk\", errors=\"ignore\") as text_file:\n",
    "        text_description = text_file.read().strip()\n",
    "        text_data.append(text_description)\n",
    "\n",
    "print(f\"训练集共有 {len(image_data)} 个样本\")\n",
    "\n",
    "train = pd.DataFrame(list(sample_info.items()), columns=[\"id\", \"tag\"])\n",
    "train[\"text\"] = text_data\n",
    "train[\"image\"] = image_data\n",
    "train.to_csv(\"train.csv\", index=False)"
   ]
  },
  {
   "cell_type": "code",
   "execution_count": 3,
   "id": "ae26e3d4-7d5d-40a1-acdb-490f51d1b45b",
   "metadata": {
    "tags": []
   },
   "outputs": [
    {
     "name": "stdout",
     "output_type": "stream",
     "text": [
      "测试集共有 511 个样本\n"
     ]
    }
   ],
   "source": [
    "# 测试集录入\n",
    "test_info = {}\n",
    "test_id = []\n",
    "\n",
    "with open(\"实验五数据/test_without_label.txt\", \"r\", encoding=\"utf_8\") as file:\n",
    "    next(file)\n",
    "    for line in file:\n",
    "        line = line.strip().split(\",\")\n",
    "        test_info[line[0]] = line[1]\n",
    "        test_id.append(line[0])\n",
    "\n",
    "test_image = []\n",
    "test_text = []\n",
    "\n",
    "for guid in test_id:\n",
    "    image_path = os.path.join(data_folder, \"data\", f\"{guid}.jpg\")\n",
    "    test_image.append(image_path)\n",
    "\n",
    "    text_path = os.path.join(data_folder, \"data\", f\"{guid}.txt\")\n",
    "    # print(text_path)\n",
    "    with open(text_path, \"r\", encoding=\"gbk\", errors=\"ignore\") as text_file:\n",
    "        text_description = text_file.read().strip()\n",
    "        test_text.append(text_description)\n",
    "print(f\"测试集共有 {len(test_image)} 个样本\")\n",
    "\n",
    "test = pd.DataFrame(list(test_info.items()), columns=[\"id\", \"tag\"])\n",
    "test[\"text\"] = test_text\n",
    "test[\"image\"] = test_image\n",
    "test.to_csv(\"test.csv\", index=False)"
   ]
  },
  {
   "cell_type": "code",
   "execution_count": null,
   "id": "b5c1ad49-71b5-41f4-a8b8-4c8a865fd523",
   "metadata": {},
   "outputs": [],
   "source": []
  }
 ],
 "metadata": {
  "kernelspec": {
   "display_name": "Python 3 (ipykernel)",
   "language": "python",
   "name": "python3"
  },
  "language_info": {
   "codemirror_mode": {
    "name": "ipython",
    "version": 3
   },
   "file_extension": ".py",
   "mimetype": "text/x-python",
   "name": "python",
   "nbconvert_exporter": "python",
   "pygments_lexer": "ipython3",
   "version": "3.8.10"
  }
 },
 "nbformat": 4,
 "nbformat_minor": 5
}
